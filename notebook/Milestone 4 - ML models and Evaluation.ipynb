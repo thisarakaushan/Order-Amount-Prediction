{
 "cells": [
  {
   "cell_type": "code",
   "execution_count": 1,
   "id": "41b13413",
   "metadata": {},
   "outputs": [
    {
     "data": {
      "text/html": [
       "<div>\n",
       "<style scoped>\n",
       "    .dataframe tbody tr th:only-of-type {\n",
       "        vertical-align: middle;\n",
       "    }\n",
       "\n",
       "    .dataframe tbody tr th {\n",
       "        vertical-align: top;\n",
       "    }\n",
       "\n",
       "    .dataframe thead th {\n",
       "        text-align: right;\n",
       "    }\n",
       "</style>\n",
       "<table border=\"1\" class=\"dataframe\">\n",
       "  <thead>\n",
       "    <tr style=\"text-align: right;\">\n",
       "      <th></th>\n",
       "      <th>CUSTOMER_ORDER_ID</th>\n",
       "      <th>SALES_ORG</th>\n",
       "      <th>DISTRIBUTION_CHANNEL</th>\n",
       "      <th>DIVISION</th>\n",
       "      <th>RELEASED_CREDIT_VALUE</th>\n",
       "      <th>PURCHASE_ORDER_TYPE</th>\n",
       "      <th>COMPANY_CODE</th>\n",
       "      <th>ORDER_CREATION_DATE</th>\n",
       "      <th>ORDER_CREATION_TIME</th>\n",
       "      <th>CREDIT_CONTROL_AREA</th>\n",
       "      <th>SOLD_TO_PARTY</th>\n",
       "      <th>ORDER_AMOUNT</th>\n",
       "      <th>REQUESTED_DELIVERY_DATE</th>\n",
       "      <th>ORDER_CURRENCY</th>\n",
       "      <th>CREDIT_STATUS</th>\n",
       "      <th>CUSTOMER_NUMBER</th>\n",
       "    </tr>\n",
       "  </thead>\n",
       "  <tbody>\n",
       "    <tr>\n",
       "      <th>0</th>\n",
       "      <td>946851639</td>\n",
       "      <td>3537</td>\n",
       "      <td>United States of America</td>\n",
       "      <td>South-Region</td>\n",
       "      <td>0,00</td>\n",
       "      <td>1000</td>\n",
       "      <td>3220</td>\n",
       "      <td>20220101</td>\n",
       "      <td>43012</td>\n",
       "      <td>SR02</td>\n",
       "      <td>756141537</td>\n",
       "      <td>954,61</td>\n",
       "      <td>20220113</td>\n",
       "      <td>EUR</td>\n",
       "      <td>NaN</td>\n",
       "      <td>12311807</td>\n",
       "    </tr>\n",
       "    <tr>\n",
       "      <th>1</th>\n",
       "      <td>963432061</td>\n",
       "      <td>3449</td>\n",
       "      <td>Martinique</td>\n",
       "      <td>South-Region</td>\n",
       "      <td>0,00</td>\n",
       "      <td>1000</td>\n",
       "      <td>3220</td>\n",
       "      <td>20220101</td>\n",
       "      <td>43114</td>\n",
       "      <td>NR03</td>\n",
       "      <td>798847812</td>\n",
       "      <td>787,36</td>\n",
       "      <td>20220111</td>\n",
       "      <td>EUR</td>\n",
       "      <td>NaN</td>\n",
       "      <td>12311807</td>\n",
       "    </tr>\n",
       "    <tr>\n",
       "      <th>2</th>\n",
       "      <td>971991639</td>\n",
       "      <td>3238</td>\n",
       "      <td>Moldova</td>\n",
       "      <td>South-Region</td>\n",
       "      <td>82342,02</td>\n",
       "      <td>I200</td>\n",
       "      <td>3260</td>\n",
       "      <td>20220101</td>\n",
       "      <td>110019</td>\n",
       "      <td>NR01</td>\n",
       "      <td>960984659</td>\n",
       "      <td>67493,46</td>\n",
       "      <td>20220112</td>\n",
       "      <td>EUR</td>\n",
       "      <td>93.0</td>\n",
       "      <td>12118758</td>\n",
       "    </tr>\n",
       "    <tr>\n",
       "      <th>3</th>\n",
       "      <td>754349803</td>\n",
       "      <td>3911</td>\n",
       "      <td>United Arab Emirates</td>\n",
       "      <td>South-Region</td>\n",
       "      <td>1471,24</td>\n",
       "      <td>N000</td>\n",
       "      <td>3290</td>\n",
       "      <td>20220101</td>\n",
       "      <td>153013</td>\n",
       "      <td>SR02</td>\n",
       "      <td>925857642</td>\n",
       "      <td>1405,54</td>\n",
       "      <td>20220106</td>\n",
       "      <td>EUR</td>\n",
       "      <td>93.0</td>\n",
       "      <td>1210499770</td>\n",
       "    </tr>\n",
       "    <tr>\n",
       "      <th>4</th>\n",
       "      <td>930253442</td>\n",
       "      <td>2381</td>\n",
       "      <td>Greece</td>\n",
       "      <td>South-Region</td>\n",
       "      <td>0,00</td>\n",
       "      <td>N000</td>\n",
       "      <td>3290</td>\n",
       "      <td>20220101</td>\n",
       "      <td>160020</td>\n",
       "      <td>SR01</td>\n",
       "      <td>947942786</td>\n",
       "      <td>0,00</td>\n",
       "      <td>20220106</td>\n",
       "      <td>EUR</td>\n",
       "      <td>64.0</td>\n",
       "      <td>1210351400</td>\n",
       "    </tr>\n",
       "  </tbody>\n",
       "</table>\n",
       "</div>"
      ],
      "text/plain": [
       "   CUSTOMER_ORDER_ID  SALES_ORG      DISTRIBUTION_CHANNEL      DIVISION  \\\n",
       "0          946851639       3537  United States of America  South-Region   \n",
       "1          963432061       3449                Martinique  South-Region   \n",
       "2          971991639       3238                   Moldova  South-Region   \n",
       "3          754349803       3911      United Arab Emirates  South-Region   \n",
       "4          930253442       2381                    Greece  South-Region   \n",
       "\n",
       "  RELEASED_CREDIT_VALUE PURCHASE_ORDER_TYPE  COMPANY_CODE  \\\n",
       "0                  0,00                1000          3220   \n",
       "1                  0,00                1000          3220   \n",
       "2              82342,02                I200          3260   \n",
       "3               1471,24                N000          3290   \n",
       "4                  0,00                N000          3290   \n",
       "\n",
       "   ORDER_CREATION_DATE  ORDER_CREATION_TIME CREDIT_CONTROL_AREA  \\\n",
       "0             20220101                43012                SR02   \n",
       "1             20220101                43114                NR03   \n",
       "2             20220101               110019                NR01   \n",
       "3             20220101               153013                SR02   \n",
       "4             20220101               160020                SR01   \n",
       "\n",
       "   SOLD_TO_PARTY ORDER_AMOUNT  REQUESTED_DELIVERY_DATE ORDER_CURRENCY  \\\n",
       "0      756141537       954,61                 20220113            EUR   \n",
       "1      798847812       787,36                 20220111            EUR   \n",
       "2      960984659     67493,46                 20220112            EUR   \n",
       "3      925857642      1405,54                 20220106            EUR   \n",
       "4      947942786         0,00                 20220106            EUR   \n",
       "\n",
       "   CREDIT_STATUS  CUSTOMER_NUMBER  \n",
       "0            NaN         12311807  \n",
       "1            NaN         12311807  \n",
       "2           93.0         12118758  \n",
       "3           93.0       1210499770  \n",
       "4           64.0       1210351400  "
      ]
     },
     "execution_count": 1,
     "metadata": {},
     "output_type": "execute_result"
    }
   ],
   "source": [
    "# Use the PRS dataset to create a dataframe\n",
    "\n",
    "import pandas as pd\n",
    "import numpy as np\n",
    "\n",
    "df = pd.read_csv('Final.csv')\n",
    "df.head(5)"
   ]
  },
  {
   "cell_type": "code",
   "execution_count": 42,
   "id": "4af5537f",
   "metadata": {},
   "outputs": [],
   "source": [
    "# Modify the dataset to pass into any type of machine learning models."
   ]
  },
  {
   "cell_type": "code",
   "execution_count": 43,
   "id": "b3815818",
   "metadata": {},
   "outputs": [
    {
     "name": "stdout",
     "output_type": "stream",
     "text": [
      "Numerical colums: \n",
      " Index(['CUSTOMER_ORDER_ID', 'SALES_ORG', 'DISTRIBUTION_CHANNEL', 'DIVISION',\n",
      "       'RELEASED_CREDIT_VALUE', 'PURCHASE_ORDER_TYPE', 'COMPANY_CODE',\n",
      "       'ORDER_CREATION_TIME', 'CREDIT_CONTROL_AREA', 'SOLD_TO_PARTY',\n",
      "       'ORDER_AMOUNT', 'ORDER_CURRENCY', 'CREDIT_STATUS', 'CUSTOMER_NUMBER',\n",
      "       'amount_in_usd', 'unique_cust_id'],\n",
      "      dtype='object')\n"
     ]
    }
   ],
   "source": [
    "numerical_columns = df.select_dtypes(include=['int', 'float']).columns\n",
    "print(\"Numerical colums: \\n\", numerical_columns)"
   ]
  },
  {
   "cell_type": "code",
   "execution_count": 44,
   "id": "d972ea51",
   "metadata": {},
   "outputs": [
    {
     "name": "stdout",
     "output_type": "stream",
     "text": [
      "CUSTOMER_ORDER_ID                   int64\n",
      "SALES_ORG                           int64\n",
      "DISTRIBUTION_CHANNEL                int32\n",
      "DIVISION                            int32\n",
      "RELEASED_CREDIT_VALUE             float64\n",
      "PURCHASE_ORDER_TYPE                 int32\n",
      "COMPANY_CODE                        int64\n",
      "ORDER_CREATION_DATE        datetime64[ns]\n",
      "ORDER_CREATION_TIME                 int64\n",
      "CREDIT_CONTROL_AREA                 int32\n",
      "SOLD_TO_PARTY                       int64\n",
      "ORDER_AMOUNT                      float64\n",
      "REQUESTED_DELIVERY_DATE    datetime64[ns]\n",
      "ORDER_CURRENCY                      int32\n",
      "CREDIT_STATUS                       int32\n",
      "CUSTOMER_NUMBER                     int64\n",
      "amount_in_usd                     float64\n",
      "unique_cust_id                      int32\n",
      "dtype: object\n"
     ]
    }
   ],
   "source": [
    "print(df.dtypes)"
   ]
  },
  {
   "cell_type": "code",
   "execution_count": 45,
   "id": "95d824c2",
   "metadata": {},
   "outputs": [],
   "source": [
    "# Drop the irrelevant columns\n",
    "\n",
    "irrelevant_columns = ['CREDIT_CONTROL_AREA', 'SOLD_TO_PARTY', 'CUSTOMER_NUMBER', 'COMPANY_CODE', 'ORDER_AMOUNT']\n",
    "df = df.drop(irrelevant_columns, axis=1)"
   ]
  },
  {
   "cell_type": "code",
   "execution_count": 46,
   "id": "fd5946a2",
   "metadata": {},
   "outputs": [],
   "source": [
    "# Drop the target variable and store in the y as the dependent variable\n",
    "\n",
    "X = df.drop('amount_in_usd', axis=1)\n",
    "y = df['amount_in_usd']"
   ]
  },
  {
   "cell_type": "code",
   "execution_count": 47,
   "id": "0274fc31",
   "metadata": {},
   "outputs": [
    {
     "data": {
      "text/plain": [
       "Index(['CUSTOMER_ORDER_ID', 'SALES_ORG', 'DISTRIBUTION_CHANNEL', 'DIVISION',\n",
       "       'RELEASED_CREDIT_VALUE', 'PURCHASE_ORDER_TYPE', 'ORDER_CREATION_DATE',\n",
       "       'ORDER_CREATION_TIME', 'REQUESTED_DELIVERY_DATE', 'ORDER_CURRENCY',\n",
       "       'CREDIT_STATUS', 'unique_cust_id'],\n",
       "      dtype='object')"
      ]
     },
     "execution_count": 47,
     "metadata": {},
     "output_type": "execute_result"
    }
   ],
   "source": [
    "X.columns"
   ]
  },
  {
   "cell_type": "code",
   "execution_count": 48,
   "id": "c4af9911",
   "metadata": {},
   "outputs": [],
   "source": [
    "# One hot Encoding on all the independent features' columns\n",
    "\n",
    "from sklearn.preprocessing import OneHotEncoder\n",
    "\n",
    "encoder = OneHotEncoder()\n",
    "x_encoded = encoder.fit_transform(X)"
   ]
  },
  {
   "cell_type": "code",
   "execution_count": 49,
   "id": "682bc1cd",
   "metadata": {},
   "outputs": [],
   "source": [
    "# Split the dataset into training and testing subsets\n",
    "\n",
    "from sklearn.model_selection import train_test_split\n",
    "\n",
    "X_train, X_test, y_train, y_test = train_test_split(x_encoded, y, test_size=0.2, random_state=42)"
   ]
  },
  {
   "cell_type": "code",
   "execution_count": 50,
   "id": "6023b81a",
   "metadata": {},
   "outputs": [],
   "source": [
    "# Standardizing data with StandardScaler() function.\n",
    "\n",
    "from sklearn.preprocessing import StandardScaler\n",
    " \n",
    "scaler = StandardScaler(with_mean=False)\n",
    "X_train = scaler.fit_transform(X_train)\n",
    "X_test = scaler.transform(X_test)"
   ]
  },
  {
   "cell_type": "code",
   "execution_count": 51,
   "id": "256e68b7",
   "metadata": {},
   "outputs": [],
   "source": [
    "# Try different machine learning models like -\n",
    "#        a. Linear Regression\n",
    "#        b. Support Vector Machine\n",
    "#        c. Decision Tree\n",
    "#        d. Random Forest\n",
    "#        e. AdaBoost\n",
    "#        f. Xgboost etc.."
   ]
  },
  {
   "cell_type": "code",
   "execution_count": 52,
   "id": "3be91deb",
   "metadata": {},
   "outputs": [
    {
     "data": {
      "text/plain": [
       "LinearRegression()"
      ]
     },
     "execution_count": 52,
     "metadata": {},
     "output_type": "execute_result"
    }
   ],
   "source": [
    "# a. Linear Regression\n",
    "\n",
    "from sklearn.linear_model import LinearRegression\n",
    "\n",
    "linear_regression = LinearRegression()\n",
    "linear_regression.fit(X_train, y_train)"
   ]
  },
  {
   "cell_type": "code",
   "execution_count": null,
   "id": "aec466a0",
   "metadata": {},
   "outputs": [],
   "source": [
    "# from sklearn.linear_model import LinearRegression\n",
    "# from sklearn.tree import DecisionTreeRegressor\n",
    "# from sklearn.ensemble import RandomForestRegressor, AdaBoostRegressor\n",
    "# from xgboost import XGBRegressor\n",
    "# from sklearn.metrics import mean_squared_error\n",
    "# from sklearn.svm import SVR\n",
    "\n",
    "# linear_regression = LinearRegression()\n",
    "# decision_tree = DecisionTreeRegressor()\n",
    "# random_forest = RandomForestRegressor()\n",
    "# adaboost = AdaBoostRegressor()\n",
    "# xgboost = XGBRegressor()\n",
    "# support_vector_machine = SVR()\n",
    "\n",
    "# models = [linear_regression, decision_tree, random_forest, adaboost, xgboost]\n",
    "# model_names = ['Linear Regression', 'Decision Tree', 'Random Forest', 'AdaBoost', 'XGBoost']\n",
    "\n",
    "# for model, name in zip(models, model_names):\n",
    "#     model.fit(X_train, y_train)"
   ]
  },
  {
   "cell_type": "code",
   "execution_count": null,
   "id": "64a40a1a",
   "metadata": {},
   "outputs": [],
   "source": [
    "# b. Support Vector Machine\n",
    "\n",
    "from sklearn.svm import SVR\n",
    "\n",
    "support_vector_machine = SVR()\n",
    "support_vector_machine.fit(X_train, y_train)"
   ]
  },
  {
   "cell_type": "code",
   "execution_count": null,
   "id": "743c3bd7",
   "metadata": {},
   "outputs": [],
   "source": [
    "# c. Decision Tree\n",
    "\n",
    "from sklearn.tree import DecisionTreeRegressor\n",
    "\n",
    "decision_tree = DecisionTreeRegressor()\n",
    "decision_tree.fit(X_train, y_train)"
   ]
  },
  {
   "cell_type": "code",
   "execution_count": null,
   "id": "05179d56",
   "metadata": {},
   "outputs": [],
   "source": [
    "# d. Random Forest\n",
    "\n",
    "from sklearn.ensemble import RandomForestRegressor\n",
    "\n",
    "random_forest = RandomForestRegressor()\n",
    "random_forest.fit(X_train, y_train)"
   ]
  },
  {
   "cell_type": "code",
   "execution_count": null,
   "id": "324e1775",
   "metadata": {},
   "outputs": [],
   "source": [
    "# e. AdaBoost\n",
    "\n",
    "from sklearn.ensemble import AdaBoostRegressor\n",
    "\n",
    "adaboost = AdaBoostRegressor()\n",
    "adaboost.fit(X_train, y_train)"
   ]
  },
  {
   "cell_type": "code",
   "execution_count": 54,
   "id": "ee81d677",
   "metadata": {},
   "outputs": [
    {
     "data": {
      "text/plain": [
       "XGBRegressor(base_score=None, booster=None, callbacks=None,\n",
       "             colsample_bylevel=None, colsample_bynode=None,\n",
       "             colsample_bytree=None, early_stopping_rounds=None,\n",
       "             enable_categorical=False, eval_metric=None, feature_types=None,\n",
       "             gamma=None, gpu_id=None, grow_policy=None, importance_type=None,\n",
       "             interaction_constraints=None, learning_rate=None, max_bin=None,\n",
       "             max_cat_threshold=None, max_cat_to_onehot=None,\n",
       "             max_delta_step=None, max_depth=None, max_leaves=None,\n",
       "             min_child_weight=None, missing=nan, monotone_constraints=None,\n",
       "             n_estimators=100, n_jobs=None, num_parallel_tree=None,\n",
       "             predictor=None, random_state=None, ...)"
      ]
     },
     "execution_count": 54,
     "metadata": {},
     "output_type": "execute_result"
    }
   ],
   "source": [
    "# f. Xgboost \n",
    "\n",
    "from xgboost import XGBRegressor\n",
    "\n",
    "xgboost = XGBRegressor()\n",
    "xgboost.fit(X_train, y_train)"
   ]
  },
  {
   "cell_type": "code",
   "execution_count": null,
   "id": "2e18dc90",
   "metadata": {},
   "outputs": [],
   "source": [
    "# Perform Regression model evaluations like MSE, RMSE, R-Square etc.\n",
    "\n",
    "# from sklearn.metrics import mean_squared_error, r2_score, mean_absolute_error\n",
    "\n",
    "# models = [linear_regression, decision_tree, random_forest, adaboost, xgboost]\n",
    "# model_names = ['Linear Regression', 'Decision Tree', 'Random Forest', 'AdaBoost', 'XGBoost']\n",
    "\n",
    "# for model, name in zip(models, model_names):\n",
    "#     model.fit(X_train, y_train)\n",
    "    \n",
    "#     y_pred = model.predict(X_test)\n",
    "\n",
    "#     mse = mean_squared_error(y_test, y_pred)\n",
    "\n",
    "#     rmse = np.sqrt(mse)\n",
    "\n",
    "#     r2 = r2_score(y_test, y_pred)\n",
    "    \n",
    "#     mae = mean_absolute_error(y_test, y_pred)\n",
    "    \n",
    "#     print(f'{name}:')\n",
    "#     print(f'Mean Squared Error (MSE): {mse:.4f}')\n",
    "#     print(f'Root Mean Squared Error (RMSE): {rmse:.4f}')\n",
    "#     print(f'R-squared: {r2:.4f}')\n",
    "#     print(f'Mean Absoluate Error: {mae:.4f}')\n",
    "#     print()"
   ]
  },
  {
   "cell_type": "code",
   "execution_count": 53,
   "id": "f60286c8",
   "metadata": {},
   "outputs": [
    {
     "name": "stdout",
     "output_type": "stream",
     "text": [
      "Linear Regression:\n",
      "Mean Squared Error (MSE): 4.9678\n",
      "Root Mean Squared Error (RMSE): 2.2288\n",
      "R-squared: 0.4698\n",
      "Mean Absoluate Error: 1.7068\n"
     ]
    }
   ],
   "source": [
    "from sklearn.metrics import mean_squared_error, r2_score, mean_absolute_error\n",
    "\n",
    "# a. Linear Regression model evaluations\n",
    "\n",
    "y_pred = linear_regression.predict(X_test)\n",
    "mse_lr = mean_squared_error(y_test, y_pred)\n",
    "rmse_lr = np.sqrt(mse_lr)\n",
    "r2_lr = r2_score(y_test, y_pred)\n",
    "mae_lr = mean_absolute_error(y_test, y_pred)\n",
    "print('Linear Regression:')\n",
    "print(f'Mean Squared Error (MSE): {mse_lr:.4f}')\n",
    "print(f'Root Mean Squared Error (RMSE): {rmse_lr:.4f}')\n",
    "print(f'R-squared: {r2_lr:.4f}')\n",
    "print(f'Mean Absoluate Error: {mae_lr:.4f}')"
   ]
  },
  {
   "cell_type": "code",
   "execution_count": null,
   "id": "4689e70a",
   "metadata": {},
   "outputs": [],
   "source": [
    "b. Support Vector Machine model evaluations\n",
    "\n",
    "y_pred = support_vector_machine.predict(X_test)\n",
    "mse = mean_squared_error(y_test, y_pred)\n",
    "rmse = np.sqrt(mse)\n",
    "r2 = r2_score(y_test, y_pred)\n",
    "mae = mean_absolute_error(y_test, y_pred)\n",
    "print('Support Vector Machine:')\n",
    "print(f'Mean Squared Error (MSE): {mse:.4f}')\n",
    "print(f'Root Mean Squared Error (RMSE): {rmse:.4f}')\n",
    "print(f'R-squared: {r2:.4f}')\n",
    "print(f'Mean Absoluate Error: {mae:.4f}')"
   ]
  },
  {
   "cell_type": "code",
   "execution_count": null,
   "id": "c3f705e7",
   "metadata": {},
   "outputs": [],
   "source": [
    "# c. Decision Tree model evaluations\n",
    "\n",
    "y_pred = decision_tree.predict(X_test)\n",
    "mse = mean_squared_error(y_test, y_pred)\n",
    "rmse = np.sqrt(mse)\n",
    "r2 = r2_score(y_test, y_pred)\n",
    "mae = mean_absolute_error(y_test, y_pred)\n",
    "print('Decision Tree:')\n",
    "print(f'Mean Squared Error (MSE): {mse:.4f}')\n",
    "print(f'Root Mean Squared Error (RMSE): {rmse:.4f}')\n",
    "print(f'R-squared: {r2:.4f}')\n",
    "print(f'Mean Absoluate Error: {mae:.4f}')"
   ]
  },
  {
   "cell_type": "code",
   "execution_count": null,
   "id": "236a3ef9",
   "metadata": {},
   "outputs": [],
   "source": [
    "# d. Random Forest model evaluations\n",
    "\n",
    "y_pred = random_forest.predict(X_test)\n",
    "mse = mean_squared_error(y_test, y_pred)\n",
    "rmse = np.sqrt(mse)\n",
    "r2 = r2_score(y_test, y_pred)\n",
    "mae = mean_absolute_error(y_test, y_pred)\n",
    "print('Random Forest:')\n",
    "print(f'Mean Squared Error (MSE): {mse:.4f}')\n",
    "print(f'Root Mean Squared Error (RMSE): {rmse:.4f}')\n",
    "print(f'R-squared: {r2:.4f}')\n",
    "print(f'Mean Absoluate Error: {mae:.4f}')"
   ]
  },
  {
   "cell_type": "code",
   "execution_count": null,
   "id": "614e111c",
   "metadata": {},
   "outputs": [],
   "source": [
    "# e. AdaBoost model evaluations\n",
    "\n",
    "y_pred = adaboost.predict(X_test)\n",
    "mse_ada = mean_squared_error(y_test, y_pred)\n",
    "rmse_ada = np.sqrt(mse_ada)\n",
    "r2_ada = r2_score(y_test, y_pred)\n",
    "mae_ada = mean_absolute_error(y_test, y_pred)\n",
    "print('AdaBoost Prediction:')\n",
    "print(f'Mean Squared Error (MSE): {mse_ada:.4f}')\n",
    "print(f'Root Mean Squared Error (RMSE): {rmse_ada:.4f}')\n",
    "print(f'R-squared: {r2_ada:.4f}')\n",
    "print(f'Mean Absoluate Error: {mae_ada:.4f}')"
   ]
  },
  {
   "cell_type": "code",
   "execution_count": 55,
   "id": "a89620b5",
   "metadata": {},
   "outputs": [
    {
     "name": "stdout",
     "output_type": "stream",
     "text": [
      "XGBoost Prediction:\n",
      "Mean Squared Error (MSE): 3.0818\n",
      "Root Mean Squared Error (RMSE): 1.7555\n",
      "R-squared: 0.6711\n",
      "Mean Absoluate Error: 1.2288\n"
     ]
    }
   ],
   "source": [
    "# f. Xgboost model evaluations\n",
    "\n",
    "y_pred = xgboost.predict(X_test)\n",
    "mse_xg = mean_squared_error(y_test, y_pred)\n",
    "rmse_xg = np.sqrt(mse_xg)\n",
    "r2_xg = r2_score(y_test, y_pred)\n",
    "mae_xg = mean_absolute_error(y_test, y_pred)\n",
    "print('XGBoost Prediction:')\n",
    "print(f'Mean Squared Error (MSE): {mse_xg:.4f}')\n",
    "print(f'Root Mean Squared Error (RMSE): {rmse_xg:.4f}')\n",
    "print(f'R-squared: {r2_xg:.4f}')\n",
    "print(f'Mean Absoluate Error: {mae_xg:.4f}')"
   ]
  },
  {
   "cell_type": "code",
   "execution_count": null,
   "id": "d0ede594",
   "metadata": {},
   "outputs": [],
   "source": [
    "# Compare the accuracies of all the models"
   ]
  },
  {
   "cell_type": "code",
   "execution_count": null,
   "id": "829d2386",
   "metadata": {},
   "outputs": [],
   "source": [
    "labels = ['Linear Regression', 'AdaBoost', 'XGBoost']\n",
    "mse_values = [mse_lr, mse_ada, mse_xg]\n",
    "rmse_values = [rmse_lr, rmse_ada, rmse_xg]\n",
    "r2_values = [r2_lr, r2_ada, r2_xg]\n",
    "\n",
    "data = {\n",
    "    'Model': labels,\n",
    "    'MSE': mse_values,\n",
    "    'RMSE': rmse_values,\n",
    "    'R-Squared': r2_values,\n",
    "}\n",
    "df_info = pd.DataFrame(data)\n",
    "df_info.set_index('Model', inplace=True)\n",
    "df_info"
   ]
  },
  {
   "cell_type": "code",
   "execution_count": null,
   "id": "fa85b3ba",
   "metadata": {},
   "outputs": [],
   "source": [
    "from sklearn.metrics import r2_score\n",
    "\n",
    "# models = [linear_regression, decision_tree, random_forest, adaboost, xgboost, support_vector_machine]\n",
    "# model_names = ['Linear Regression', 'Decision Tree', 'Random Forest', 'AdaBoost', 'XGBoost', 'Support Vector Machine']\n",
    "\n",
    "models = [linear_regression, adaboost, xgboost]\n",
    "model_names = ['Linear Regression', 'AdaBoost', 'XGBoost']\n",
    "\n",
    "plt.bar(model_names, r2_values)\n",
    "plt.xlabel('Model')\n",
    "plt.ylabel('R-squared')\n",
    "plt.title('Comparison of Model Accuracies')\n",
    "plt.show()"
   ]
  },
  {
   "cell_type": "code",
   "execution_count": null,
   "id": "bc6a32ed",
   "metadata": {},
   "outputs": [],
   "source": [
    "# Select the best possible model"
   ]
  },
  {
   "cell_type": "markdown",
   "id": "78a37749",
   "metadata": {},
   "source": [
    "In the provided list of regression models, you can evaluate the models based on their performance metrics such as \n",
    "R-squared,mean squared error (MSE), and root mean squared error (RMSE). Generally, a higher R-squared value and lower \n",
    "MSE/RMSE indicate better model performance.\n",
    "\n",
    "To select the best possible model, you can compare the performance metrics of the models and choose the one that achieves \n",
    "the highest R-squared value and the lowest MSE/RMSE. "
   ]
  },
  {
   "cell_type": "code",
   "execution_count": null,
   "id": "df326308",
   "metadata": {},
   "outputs": [],
   "source": [
    "from sklearn.model_selection import cross_val_score\n",
    "\n",
    "models = {'Linear Regression': linear_regression,'AdaBoost': adaboost,'XGBoost': xgboost}\n",
    "\n",
    "cv_rmse_scores = {}\n",
    "cv_mse_scores = {}\n",
    "cv_r2_scores = {}\n",
    "cv_mae_scores = {}"
   ]
  },
  {
   "cell_type": "code",
   "execution_count": null,
   "id": "b48af365",
   "metadata": {},
   "outputs": [],
   "source": [
    "for model_name, model in models.items():\n",
    "    cv_rmse = np.sqrt(-cross_val_score(model, x_encoded, y, cv=3, scoring='neg_mean_squared_error'))\n",
    "    cv_rmse_scores[model_name] = cv_rmse.mean()\n",
    "\n",
    "    cv_mse = -cross_val_score(model, x_encoded, y, cv=3, scoring='neg_mean_squared_error')\n",
    "    cv_mse_scores[model_name] = cv_mse.mean()\n",
    "\n",
    "    cv_r2 = cross_val_score(model, x_encoded, y, cv=3, scoring='r2')\n",
    "    cv_r2_scores[model_name] = cv_r2.mean()"
   ]
  },
  {
   "cell_type": "code",
   "execution_count": null,
   "id": "361a77c0",
   "metadata": {},
   "outputs": [],
   "source": [
    "best_model_rmse = min(cv_rmse_scores, key=cv_rmse_scores.get)\n",
    "best_model_mse = min(cv_mse_scores, key=cv_mse_scores.get)\n",
    "best_model_r2 = max(cv_r2_scores, key=cv_r2_scores.get)\n",
    "\n",
    "print(f\"Cross-Validation Scores:\\nRMSE: {cv_rmse_scores}\\nMSE: {cv_mse_scores}\\nR2: {cv_r2_scores}\")\n",
    "\n",
    "print(f\"Best model based on \\nRMSE: {best_model_rmse}\\n MSE: {best_model_mse}\\n R2: {best_model_r2}\")"
   ]
  },
  {
   "cell_type": "code",
   "execution_count": null,
   "id": "c08c849f",
   "metadata": {},
   "outputs": [],
   "source": [
    "# Perform Hyperparameter tuning, select best hyperparameters by using appropriate algorithms.\n"
   ]
  },
  {
   "cell_type": "code",
   "execution_count": null,
   "id": "e2f96e7b",
   "metadata": {},
   "outputs": [],
   "source": [
    "from sklearn.model_selection import RandomizedSearchCV\n",
    "from scipy.stats import uniform, randint\n",
    "\n",
    "param_dist_xg = {'n_estimators': randint(50, 200), 'learning_rate': uniform(0.0001, 0.1)}\n",
    "\n",
    "random_search_xg = RandomizedSearchCV(xgboost, param_dist_xg, cv=5, scoring='neg_mean_squared_error', n_iter=10)\n",
    "\n",
    "random_search_xg.fit(X_train, y_train) "
   ]
  },
  {
   "cell_type": "code",
   "execution_count": null,
   "id": "0e405a96",
   "metadata": {},
   "outputs": [],
   "source": [
    "best_params_xg = random_search_xg.best_params_"
   ]
  },
  {
   "cell_type": "code",
   "execution_count": null,
   "id": "ac6f62a5",
   "metadata": {},
   "outputs": [],
   "source": [
    "from sklearn.model_selection import GridSearchCV\n",
    "\n",
    "def hyperparam(model, X_train, y_train, X_test, y_test):\n",
    "    grid_search = GridSearchCV(estimator = model, param_grid = {'n_estimators': [10, 20, 30, 40, 50, 60, 70, 80, 90, 100]}, cv = 5, n_jobs = -1, verbose = 5)\n",
    "    grid_search.fit(X_train, y_train)\n",
    "    print(grid_search.best_params_)\n",
    "    print(grid_search.best_score_)\n",
    "    print(grid_search.best_estimator_)\n",
    "    y_pred = grid_search.predict(X_test)\n",
    "    mse = mean_squared_error(y_test, y_pred)\n",
    "    rmse = np.sqrt(mse)\n",
    "    r2 = r2_score(y_test, y_pred)\n",
    "    print('MSE: ', mse)\n",
    "    print('RMSE: ', rmse)\n",
    "    print('R2: ', r2)\n",
    "    return grid_search.best_estimator_, mse, rmse, r2\n",
    "\n",
    "hyperparam(xgboost, X_train, y_train, X_test, y_test)"
   ]
  },
  {
   "cell_type": "code",
   "execution_count": null,
   "id": "32f31258",
   "metadata": {},
   "outputs": [],
   "source": [
    "# Come up with the best possible model accuracy."
   ]
  },
  {
   "cell_type": "code",
   "execution_count": null,
   "id": "7dd0995d",
   "metadata": {},
   "outputs": [],
   "source": [
    "mse = mean_squared_error(y_test, y_pred)\n",
    "rmse = np.sqrt(mse)\n",
    "r2 = r2_score(y_test, y_pred)\n",
    "print('XGBoost:')\n",
    "print(f'Mean Squared Error (MSE): {mse:.4f}')\n",
    "print(f'Root Mean Squared Error (RMSE): {rmse:.4f}')\n",
    "print(f'R-squared: {r2:.4f}')"
   ]
  }
 ],
 "metadata": {
  "kernelspec": {
   "display_name": "Python 3 (ipykernel)",
   "language": "python",
   "name": "python3"
  },
  "language_info": {
   "codemirror_mode": {
    "name": "ipython",
    "version": 3
   },
   "file_extension": ".py",
   "mimetype": "text/x-python",
   "name": "python",
   "nbconvert_exporter": "python",
   "pygments_lexer": "ipython3",
   "version": "3.9.13"
  }
 },
 "nbformat": 4,
 "nbformat_minor": 5
}
